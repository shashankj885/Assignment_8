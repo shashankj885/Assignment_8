{
 "cells": [
  {
   "cell_type": "markdown",
   "id": "1dae0968",
   "metadata": {},
   "source": [
    "Ans1-PyInputPlus is not a part of the Python Standard Library, we must install it separately using Pip."
   ]
  },
  {
   "cell_type": "markdown",
   "id": "96ed14de",
   "metadata": {},
   "source": [
    "Ans2-pypi is alias of PyInputPlus , We can import the module with import pyinputplus as pyip so that you can enter a shorter name when calling the module's functions"
   ]
  },
  {
   "cell_type": "markdown",
   "id": "911e7d35",
   "metadata": {},
   "source": [
    "Ans3-The difference is in the data-type when you use the inputInt(), expects an integer value as input and returns a int value but for inputFloat(), it expects input as a integer/float value but returns only  a float value i.e number containing a decimal"
   ]
  },
  {
   "cell_type": "markdown",
   "id": "ca7d13cb",
   "metadata": {},
   "source": [
    "Ans4-By using pyip.inputint(min=0, max=99)"
   ]
  },
  {
   "cell_type": "markdown",
   "id": "6c68cc36",
   "metadata": {},
   "source": [
    "Ans5-We can also use regular expressions to specify whether an input is allowed or not. The allowRegexes and blockRegexes\n",
    "keyword arguments take a list of regular expression strings to determine what the PyInputPlus function will accept or reject as valid input."
   ]
  },
  {
   "cell_type": "markdown",
   "id": "f01361e7",
   "metadata": {},
   "source": [
    "Ans6- It will throw RetryLimitException exception."
   ]
  },
  {
   "cell_type": "markdown",
   "id": "1040f2ad",
   "metadata": {},
   "source": [
    "Ans7-When you use limit keyword arguments and also pass a default keyword argument, the function returns the default value instead of raising an exception"
   ]
  }
 ],
 "metadata": {
  "kernelspec": {
   "display_name": "Python 3 (ipykernel)",
   "language": "python",
   "name": "python3"
  },
  "language_info": {
   "codemirror_mode": {
    "name": "ipython",
    "version": 3
   },
   "file_extension": ".py",
   "mimetype": "text/x-python",
   "name": "python",
   "nbconvert_exporter": "python",
   "pygments_lexer": "ipython3",
   "version": "3.9.12"
  }
 },
 "nbformat": 4,
 "nbformat_minor": 5
}
